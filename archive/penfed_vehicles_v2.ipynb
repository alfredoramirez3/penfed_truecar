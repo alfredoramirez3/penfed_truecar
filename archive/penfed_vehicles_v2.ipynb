{
 "cells": [
  {
   "cell_type": "code",
   "execution_count": 40,
   "metadata": {},
   "outputs": [],
   "source": [
    "import ipywidgets as widgets\n",
    "from IPython.display import display\n",
    "\n",
    "import glob2\n",
    "import pandas as pd"
   ]
  },
  {
   "cell_type": "code",
   "execution_count": 41,
   "metadata": {},
   "outputs": [],
   "source": [
    "pd.set_option('display.max_rows', 100)\n",
    "pd.set_option('display.max_columns', 50)\n",
    "pd.set_option('display.max_colwidth', 100) #50) # default"
   ]
  },
  {
   "cell_type": "code",
   "execution_count": 80,
   "metadata": {},
   "outputs": [
    {
     "data": {
      "application/vnd.jupyter.widget-view+json": {
       "model_id": "0f1e41b055c74e288a370d3e19dcef1e",
       "version_major": 2,
       "version_minor": 0
      },
      "text/plain": [
       "interactive(children=(Dropdown(description='Select Make-Model', options=('Mazda-Miata', 'BMW-Z4', 'Nissan-370Z…"
      ]
     },
     "metadata": {},
     "output_type": "display_data"
    }
   ],
   "source": [
    "def update_make_model(make_model):\n",
    "    #print('create dataframe for {} csv files'.format(make_model))\n",
    "    global filepath\n",
    "    filepath = './output/*{}*.csv'.format(make_model)\n",
    "    print(filepath)\n",
    "    return None\n",
    "\n",
    "make_models = ['Mazda-Miata', 'BMW-Z4', 'Nissan-370Z', 'Toyota-4Runner']\n",
    "drop_down = \\\n",
    "widgets.Dropdown(\n",
    "    options = make_models,\n",
    "    value = make_models[0],\n",
    "    description = 'Select Make-Model',\n",
    "    disabled=False,\n",
    ")\n",
    "\n",
    "\n",
    "#display(drop_down)\n",
    "widgets.interactive(update_make_model, make_model=drop_down)"
   ]
  },
  {
   "cell_type": "code",
   "execution_count": 82,
   "metadata": {},
   "outputs": [
    {
     "name": "stdout",
     "output_type": "stream",
     "text": [
      "./output/*Nissan-370Z*.csv\n"
     ]
    }
   ],
   "source": [
    "print(filepath)"
   ]
  },
  {
   "cell_type": "code",
   "execution_count": 83,
   "metadata": {},
   "outputs": [],
   "source": [
    "filenames = glob2.glob(filepath)\n",
    "#print(filenames)"
   ]
  },
  {
   "cell_type": "code",
   "execution_count": 84,
   "metadata": {},
   "outputs": [],
   "source": [
    "df = pd.read_csv(filenames[0])\n",
    "for filename in filenames[1:]:\n",
    "    df = pd.concat([df, pd.read_csv(filename)], ignore_index=True, sort=False)"
   ]
  },
  {
   "cell_type": "code",
   "execution_count": 85,
   "metadata": {},
   "outputs": [],
   "source": [
    "df.index.name = 'orig_index'"
   ]
  },
  {
   "cell_type": "code",
   "execution_count": 86,
   "metadata": {},
   "outputs": [],
   "source": [
    "#df.head(20)"
   ]
  },
  {
   "cell_type": "code",
   "execution_count": 87,
   "metadata": {},
   "outputs": [],
   "source": [
    "agg = df.groupby('vin').agg({'date': ['max', 'min', 'count']})\n",
    "agg.columns = ['max_date', 'min_date', 'count_date']\n",
    "\n",
    "# add aggregations to row by vin\n",
    "df_stats = df.join(agg, on='vin')\n"
   ]
  },
  {
   "cell_type": "code",
   "execution_count": 88,
   "metadata": {},
   "outputs": [],
   "source": [
    "#df_stats.head(2)"
   ]
  },
  {
   "cell_type": "code",
   "execution_count": 89,
   "metadata": {},
   "outputs": [],
   "source": [
    "def avail(row, date_max):\n",
    "    if row['count_date'] == 1 and row['date'] == date_max:\n",
    "        return 'new listing'\n",
    "    if row['max_date'] < date_max:\n",
    "        return 'listing not avail'\n",
    "    return 'listing avail'\n",
    "\n",
    "date_max = df['date'].max()\n",
    "date_max\n",
    "\n",
    "df_stats['availability'] = df_stats.apply(avail, axis=1, date_max=date_max)\n"
   ]
  },
  {
   "cell_type": "code",
   "execution_count": 90,
   "metadata": {},
   "outputs": [],
   "source": [
    "#df_stats.head(2)"
   ]
  },
  {
   "cell_type": "code",
   "execution_count": 91,
   "metadata": {},
   "outputs": [],
   "source": [
    "# order rows by vin and date to setup for calculating the price difference between dates\n",
    "df_stats = df_stats.sort_values(by=['vin', 'date'])\n"
   ]
  },
  {
   "cell_type": "code",
   "execution_count": 92,
   "metadata": {},
   "outputs": [],
   "source": [
    "#df_stats.head(15)"
   ]
  },
  {
   "cell_type": "code",
   "execution_count": 93,
   "metadata": {},
   "outputs": [],
   "source": [
    "df_stats_price_diff = df_stats.groupby('vin')['vehicle_price'].rolling(2).apply(lambda price: price[1] - price[0], raw=True).to_frame('price_diff').reset_index()\n"
   ]
  },
  {
   "cell_type": "code",
   "execution_count": 94,
   "metadata": {},
   "outputs": [],
   "source": [
    "#df_stats_price_diff.head(5)"
   ]
  },
  {
   "cell_type": "code",
   "execution_count": 95,
   "metadata": {},
   "outputs": [],
   "source": [
    "assert len(df_stats) == len(df_stats_price_diff)"
   ]
  },
  {
   "cell_type": "code",
   "execution_count": 96,
   "metadata": {},
   "outputs": [],
   "source": [
    "# join(..., left_on='index', right_on='level_1') is sufficient\n",
    "# adding 'vin' is redundant, but keeps from adding duplicate columns vin_x, vin_y to dataframe\n",
    "df_stats = df_stats.merge(df_stats_price_diff, left_on=['vin', 'orig_index'], right_on=['vin', 'orig_index'])\n"
   ]
  },
  {
   "cell_type": "code",
   "execution_count": 97,
   "metadata": {},
   "outputs": [],
   "source": [
    "#df_stats.head(5)"
   ]
  },
  {
   "cell_type": "code",
   "execution_count": 98,
   "metadata": {},
   "outputs": [],
   "source": [
    "#df_stats.columns"
   ]
  },
  {
   "cell_type": "code",
   "execution_count": 99,
   "metadata": {},
   "outputs": [],
   "source": [
    "#['year_make_model_1', ''index', detail_url', 'vin', 'price_rating', 'vehicle_price', 'year_make_model_2', 'trim', 'location', 'mileage', 'exterior_color',\n",
    "# 'interior_color', 'mpg', 'engine', 'transmission', 'drive_type', 'fuel_type', 'accident_check', 'usage', 'title', 'number_of_owners', 'date', 'max_date', 'min_date', \n",
    "# 'count_date', 'availability', 'price_diff']\n",
    "\n",
    "# columns wanted for analysis\n",
    "df_less_columns = df_stats[['year_make_model_1', 'vin', 'price_rating', 'vehicle_price', 'price_diff', 'trim', 'location', 'mileage', \n",
    "                 'exterior_color', 'interior_color', 'transmission', 'accident_check', 'usage', 'title', 'number_of_owners', 'date', 'availability', 'detail_url']]"
   ]
  },
  {
   "cell_type": "code",
   "execution_count": 100,
   "metadata": {},
   "outputs": [],
   "source": [
    "#df_less_columns.head(5)"
   ]
  },
  {
   "cell_type": "code",
   "execution_count": 101,
   "metadata": {},
   "outputs": [],
   "source": [
    "# various row filters\n",
    "filter1 = df_less_columns['accident_check'] == 0 # no accidents\n",
    "filter2 = df_less_columns['number_of_owners'] < 3 # less than three owners\n",
    "filter3 = df_less_columns['title'] == 'Clean' # only interested in clean titles\n",
    "filter4 = df_less_columns['availability'] != 'listing not avail' # not interested in listings that are no longer available\n"
   ]
  },
  {
   "cell_type": "code",
   "execution_count": 102,
   "metadata": {},
   "outputs": [
    {
     "data": {
      "text/plain": [
       "[(0, 'JN1AZ4FH9CM371012'),\n",
       " (1, 'JN1AZ4FH4AM301379'),\n",
       " (2, 'JN1AZ4FH5EM621137'),\n",
       " (3, 'JN1AZ4FH5EM621073'),\n",
       " (4, 'JN1AZ4FH2BM360030'),\n",
       " (5, 'JN1AZ4FH0BM360219')]"
      ]
     },
     "execution_count": 102,
     "metadata": {},
     "output_type": "execute_result"
    }
   ],
   "source": [
    "# note, for very large datasets it would be better to save new dataframe with the applied filter(s) instead of repeated filtering\n",
    "\n",
    "#df_less_columns[filter1\n",
    "#df_less_columns[filter1 & filter2]\n",
    "#df_less_columns[filter1 & filter2 & filter3]\n",
    "vins = list(set(df_less_columns[filter1 & filter2 & filter3 & filter4]['vin']))\n",
    "list(enumerate(vins))"
   ]
  },
  {
   "cell_type": "code",
   "execution_count": 117,
   "metadata": {},
   "outputs": [
    {
     "data": {
      "application/vnd.jupyter.widget-view+json": {
       "model_id": "f596fd3f7fa648d5a0b0709782545e83",
       "version_major": 2,
       "version_minor": 0
      },
      "text/plain": [
       "interactive(children=(Dropdown(description='Select vins', options=('JN1AZ4FH9CM371012', 'JN1AZ4FH4AM301379', '…"
      ]
     },
     "metadata": {},
     "output_type": "display_data"
    }
   ],
   "source": [
    "\n",
    "def update_vin(vin):\n",
    "    #print('create dataframe for {} csv files'.format(make_model))\n",
    "    global sel_vin\n",
    "    sel_vin = vin\n",
    "    print(sel_vin)\n",
    "    return None\n",
    "\n",
    "vins = list(set(df_less_columns[filter1 & filter2 & filter3 & filter4]['vin']))\n",
    "drop_down = \\\n",
    "widgets.Dropdown(\n",
    "    options = vins,\n",
    "    value = vins[0],\n",
    "    description = 'Select vins',\n",
    "    disabled=False,\n",
    ")\n",
    "\n",
    "\n",
    "#display(drop_down)\n",
    "widgets.interactive(update_vin, vin=drop_down)"
   ]
  },
  {
   "cell_type": "code",
   "execution_count": 115,
   "metadata": {},
   "outputs": [
    {
     "data": {
      "text/html": [
       "<div>\n",
       "<style scoped>\n",
       "    .dataframe tbody tr th:only-of-type {\n",
       "        vertical-align: middle;\n",
       "    }\n",
       "\n",
       "    .dataframe tbody tr th {\n",
       "        vertical-align: top;\n",
       "    }\n",
       "\n",
       "    .dataframe thead th {\n",
       "        text-align: right;\n",
       "    }\n",
       "</style>\n",
       "<table border=\"1\" class=\"dataframe\">\n",
       "  <thead>\n",
       "    <tr style=\"text-align: right;\">\n",
       "      <th></th>\n",
       "      <th>year_make_model_1</th>\n",
       "      <th>vin</th>\n",
       "      <th>price_rating</th>\n",
       "      <th>vehicle_price</th>\n",
       "      <th>price_diff</th>\n",
       "      <th>trim</th>\n",
       "      <th>location</th>\n",
       "      <th>mileage</th>\n",
       "      <th>exterior_color</th>\n",
       "      <th>interior_color</th>\n",
       "      <th>transmission</th>\n",
       "      <th>accident_check</th>\n",
       "      <th>usage</th>\n",
       "      <th>title</th>\n",
       "      <th>number_of_owners</th>\n",
       "      <th>date</th>\n",
       "      <th>availability</th>\n",
       "      <th>detail_url</th>\n",
       "    </tr>\n",
       "  </thead>\n",
       "  <tbody>\n",
       "    <tr>\n",
       "      <td>367</td>\n",
       "      <td>2012 Nissan 370Z</td>\n",
       "      <td>JN1AZ4FH9CM371012</td>\n",
       "      <td>Excellent Price</td>\n",
       "      <td>17999</td>\n",
       "      <td>NaN</td>\n",
       "      <td>Touring Roadster Auto</td>\n",
       "      <td>Somerset, MA</td>\n",
       "      <td>46783</td>\n",
       "      <td>Black Cherry Metallic</td>\n",
       "      <td>Wine</td>\n",
       "      <td>Automatic</td>\n",
       "      <td>0</td>\n",
       "      <td>Personal or Rental Use</td>\n",
       "      <td>Clean</td>\n",
       "      <td>1</td>\n",
       "      <td>2020-03-21 09:58:55.542922</td>\n",
       "      <td>listing avail</td>\n",
       "      <td>https://penfed.truecar.com/used-cars-for-sale/listing/JN1AZ4FH9CM371012/2012-nissan-370z/</td>\n",
       "    </tr>\n",
       "    <tr>\n",
       "      <td>368</td>\n",
       "      <td>2012 Nissan 370Z</td>\n",
       "      <td>JN1AZ4FH9CM371012</td>\n",
       "      <td>Great Price</td>\n",
       "      <td>17999</td>\n",
       "      <td>0.0</td>\n",
       "      <td>Touring Roadster Auto</td>\n",
       "      <td>Somerset, MA</td>\n",
       "      <td>46783</td>\n",
       "      <td>Black Cherry Metallic</td>\n",
       "      <td>Wine</td>\n",
       "      <td>Automatic</td>\n",
       "      <td>0</td>\n",
       "      <td>Personal or Rental Use</td>\n",
       "      <td>Clean</td>\n",
       "      <td>1</td>\n",
       "      <td>2020-03-23 18:44:30.671126</td>\n",
       "      <td>listing avail</td>\n",
       "      <td>https://penfed.truecar.com/used-cars-for-sale/listing/JN1AZ4FH9CM371012/2012-nissan-370z/</td>\n",
       "    </tr>\n",
       "    <tr>\n",
       "      <td>369</td>\n",
       "      <td>2012 Nissan 370Z</td>\n",
       "      <td>JN1AZ4FH9CM371012</td>\n",
       "      <td>Great Price</td>\n",
       "      <td>17999</td>\n",
       "      <td>0.0</td>\n",
       "      <td>Touring Roadster Auto</td>\n",
       "      <td>Somerset, MA</td>\n",
       "      <td>46783</td>\n",
       "      <td>Black Cherry Metallic</td>\n",
       "      <td>Wine</td>\n",
       "      <td>Automatic</td>\n",
       "      <td>0</td>\n",
       "      <td>Personal or Rental Use</td>\n",
       "      <td>Clean</td>\n",
       "      <td>1</td>\n",
       "      <td>2020-03-25 08:17:56.753564</td>\n",
       "      <td>listing avail</td>\n",
       "      <td>https://penfed.truecar.com/used-cars-for-sale/listing/JN1AZ4FH9CM371012/2012-nissan-370z/</td>\n",
       "    </tr>\n",
       "    <tr>\n",
       "      <td>370</td>\n",
       "      <td>2012 Nissan 370Z</td>\n",
       "      <td>JN1AZ4FH9CM371012</td>\n",
       "      <td>Great Price</td>\n",
       "      <td>17999</td>\n",
       "      <td>0.0</td>\n",
       "      <td>Touring Roadster Auto</td>\n",
       "      <td>Somerset, MA</td>\n",
       "      <td>46783</td>\n",
       "      <td>Black Cherry Metallic</td>\n",
       "      <td>Wine</td>\n",
       "      <td>Automatic</td>\n",
       "      <td>0</td>\n",
       "      <td>Personal or Rental Use</td>\n",
       "      <td>Clean</td>\n",
       "      <td>1</td>\n",
       "      <td>2020-03-29 20:02:29.517854</td>\n",
       "      <td>listing avail</td>\n",
       "      <td>https://penfed.truecar.com/used-cars-for-sale/listing/JN1AZ4FH9CM371012/2012-nissan-370z/</td>\n",
       "    </tr>\n",
       "    <tr>\n",
       "      <td>371</td>\n",
       "      <td>2012 Nissan 370Z</td>\n",
       "      <td>JN1AZ4FH9CM371012</td>\n",
       "      <td>Great Price</td>\n",
       "      <td>17999</td>\n",
       "      <td>0.0</td>\n",
       "      <td>Touring Roadster Auto</td>\n",
       "      <td>Somerset, MA</td>\n",
       "      <td>46783</td>\n",
       "      <td>Black Cherry Metallic</td>\n",
       "      <td>Wine</td>\n",
       "      <td>Automatic</td>\n",
       "      <td>0</td>\n",
       "      <td>Personal or Rental Use</td>\n",
       "      <td>Clean</td>\n",
       "      <td>1</td>\n",
       "      <td>2020-03-30 07:11:23.209785</td>\n",
       "      <td>listing avail</td>\n",
       "      <td>https://penfed.truecar.com/used-cars-for-sale/listing/JN1AZ4FH9CM371012/2012-nissan-370z/</td>\n",
       "    </tr>\n",
       "    <tr>\n",
       "      <td>372</td>\n",
       "      <td>2012 Nissan 370Z</td>\n",
       "      <td>JN1AZ4FH9CM371012</td>\n",
       "      <td>Great Price</td>\n",
       "      <td>17899</td>\n",
       "      <td>-100.0</td>\n",
       "      <td>Touring Roadster Auto</td>\n",
       "      <td>Somerset, MA</td>\n",
       "      <td>46783</td>\n",
       "      <td>Black Cherry Metallic</td>\n",
       "      <td>Wine</td>\n",
       "      <td>Automatic</td>\n",
       "      <td>0</td>\n",
       "      <td>Personal or Rental Use</td>\n",
       "      <td>Clean</td>\n",
       "      <td>1</td>\n",
       "      <td>2020-03-31 09:49:22.664277</td>\n",
       "      <td>listing avail</td>\n",
       "      <td>https://penfed.truecar.com/used-cars-for-sale/listing/JN1AZ4FH9CM371012/2012-nissan-370z/</td>\n",
       "    </tr>\n",
       "    <tr>\n",
       "      <td>373</td>\n",
       "      <td>2012 Nissan 370Z</td>\n",
       "      <td>JN1AZ4FH9CM371012</td>\n",
       "      <td>Great Price</td>\n",
       "      <td>17899</td>\n",
       "      <td>0.0</td>\n",
       "      <td>Touring Roadster Auto</td>\n",
       "      <td>Somerset, MA</td>\n",
       "      <td>46783</td>\n",
       "      <td>Black Cherry Metallic</td>\n",
       "      <td>Wine</td>\n",
       "      <td>Automatic</td>\n",
       "      <td>0</td>\n",
       "      <td>Personal or Rental Use</td>\n",
       "      <td>Clean</td>\n",
       "      <td>1</td>\n",
       "      <td>2020-04-02 16:07:42.515195</td>\n",
       "      <td>listing avail</td>\n",
       "      <td>https://penfed.truecar.com/used-cars-for-sale/listing/JN1AZ4FH9CM371012/2012-nissan-370z/</td>\n",
       "    </tr>\n",
       "    <tr>\n",
       "      <td>374</td>\n",
       "      <td>2012 Nissan 370Z</td>\n",
       "      <td>JN1AZ4FH9CM371012</td>\n",
       "      <td>Great Price</td>\n",
       "      <td>17899</td>\n",
       "      <td>0.0</td>\n",
       "      <td>Touring Roadster Auto</td>\n",
       "      <td>Somerset, MA</td>\n",
       "      <td>46783</td>\n",
       "      <td>Black Cherry Metallic</td>\n",
       "      <td>Wine</td>\n",
       "      <td>Automatic</td>\n",
       "      <td>0</td>\n",
       "      <td>Personal or Rental Use</td>\n",
       "      <td>Clean</td>\n",
       "      <td>1</td>\n",
       "      <td>2020-04-07 13:17:51.853408</td>\n",
       "      <td>listing avail</td>\n",
       "      <td>https://penfed.truecar.com/used-cars-for-sale/listing/JN1AZ4FH9CM371012/2012-nissan-370z/</td>\n",
       "    </tr>\n",
       "    <tr>\n",
       "      <td>375</td>\n",
       "      <td>2012 Nissan 370Z</td>\n",
       "      <td>JN1AZ4FH9CM371012</td>\n",
       "      <td>Great Price</td>\n",
       "      <td>17899</td>\n",
       "      <td>0.0</td>\n",
       "      <td>Touring Roadster Auto</td>\n",
       "      <td>Somerset, MA</td>\n",
       "      <td>46783</td>\n",
       "      <td>Black Cherry Metallic</td>\n",
       "      <td>Wine</td>\n",
       "      <td>Automatic</td>\n",
       "      <td>0</td>\n",
       "      <td>Personal or Rental Use</td>\n",
       "      <td>Clean</td>\n",
       "      <td>1</td>\n",
       "      <td>2020-04-10 10:31:44.778619</td>\n",
       "      <td>listing avail</td>\n",
       "      <td>https://penfed.truecar.com/used-cars-for-sale/listing/JN1AZ4FH9CM371012/2012-nissan-370z/</td>\n",
       "    </tr>\n",
       "    <tr>\n",
       "      <td>376</td>\n",
       "      <td>2012 Nissan 370Z</td>\n",
       "      <td>JN1AZ4FH9CM371012</td>\n",
       "      <td>Great Price</td>\n",
       "      <td>17899</td>\n",
       "      <td>0.0</td>\n",
       "      <td>Touring Roadster Auto</td>\n",
       "      <td>Somerset, MA</td>\n",
       "      <td>46783</td>\n",
       "      <td>Black Cherry Metallic</td>\n",
       "      <td>Wine</td>\n",
       "      <td>Automatic</td>\n",
       "      <td>0</td>\n",
       "      <td>Personal or Rental Use</td>\n",
       "      <td>Clean</td>\n",
       "      <td>1</td>\n",
       "      <td>2020-04-14 08:15:04.305218</td>\n",
       "      <td>listing avail</td>\n",
       "      <td>https://penfed.truecar.com/used-cars-for-sale/listing/JN1AZ4FH9CM371012/2012-nissan-370z/</td>\n",
       "    </tr>\n",
       "    <tr>\n",
       "      <td>377</td>\n",
       "      <td>2012 Nissan 370Z</td>\n",
       "      <td>JN1AZ4FH9CM371012</td>\n",
       "      <td>Great Price</td>\n",
       "      <td>17899</td>\n",
       "      <td>0.0</td>\n",
       "      <td>Touring Roadster Auto</td>\n",
       "      <td>Somerset, MA</td>\n",
       "      <td>46783</td>\n",
       "      <td>Black Cherry Metallic</td>\n",
       "      <td>Wine</td>\n",
       "      <td>Automatic</td>\n",
       "      <td>0</td>\n",
       "      <td>Personal or Rental Use</td>\n",
       "      <td>Clean</td>\n",
       "      <td>1</td>\n",
       "      <td>2020-04-19 09:55:17.451779</td>\n",
       "      <td>listing avail</td>\n",
       "      <td>https://penfed.truecar.com/used-cars-for-sale/listing/JN1AZ4FH9CM371012/2012-nissan-370z/</td>\n",
       "    </tr>\n",
       "  </tbody>\n",
       "</table>\n",
       "</div>"
      ],
      "text/plain": [
       "    year_make_model_1                vin     price_rating  vehicle_price  \\\n",
       "367  2012 Nissan 370Z  JN1AZ4FH9CM371012  Excellent Price          17999   \n",
       "368  2012 Nissan 370Z  JN1AZ4FH9CM371012      Great Price          17999   \n",
       "369  2012 Nissan 370Z  JN1AZ4FH9CM371012      Great Price          17999   \n",
       "370  2012 Nissan 370Z  JN1AZ4FH9CM371012      Great Price          17999   \n",
       "371  2012 Nissan 370Z  JN1AZ4FH9CM371012      Great Price          17999   \n",
       "372  2012 Nissan 370Z  JN1AZ4FH9CM371012      Great Price          17899   \n",
       "373  2012 Nissan 370Z  JN1AZ4FH9CM371012      Great Price          17899   \n",
       "374  2012 Nissan 370Z  JN1AZ4FH9CM371012      Great Price          17899   \n",
       "375  2012 Nissan 370Z  JN1AZ4FH9CM371012      Great Price          17899   \n",
       "376  2012 Nissan 370Z  JN1AZ4FH9CM371012      Great Price          17899   \n",
       "377  2012 Nissan 370Z  JN1AZ4FH9CM371012      Great Price          17899   \n",
       "\n",
       "     price_diff                   trim      location  mileage  \\\n",
       "367         NaN  Touring Roadster Auto  Somerset, MA    46783   \n",
       "368         0.0  Touring Roadster Auto  Somerset, MA    46783   \n",
       "369         0.0  Touring Roadster Auto  Somerset, MA    46783   \n",
       "370         0.0  Touring Roadster Auto  Somerset, MA    46783   \n",
       "371         0.0  Touring Roadster Auto  Somerset, MA    46783   \n",
       "372      -100.0  Touring Roadster Auto  Somerset, MA    46783   \n",
       "373         0.0  Touring Roadster Auto  Somerset, MA    46783   \n",
       "374         0.0  Touring Roadster Auto  Somerset, MA    46783   \n",
       "375         0.0  Touring Roadster Auto  Somerset, MA    46783   \n",
       "376         0.0  Touring Roadster Auto  Somerset, MA    46783   \n",
       "377         0.0  Touring Roadster Auto  Somerset, MA    46783   \n",
       "\n",
       "            exterior_color interior_color transmission  accident_check  \\\n",
       "367  Black Cherry Metallic           Wine    Automatic               0   \n",
       "368  Black Cherry Metallic           Wine    Automatic               0   \n",
       "369  Black Cherry Metallic           Wine    Automatic               0   \n",
       "370  Black Cherry Metallic           Wine    Automatic               0   \n",
       "371  Black Cherry Metallic           Wine    Automatic               0   \n",
       "372  Black Cherry Metallic           Wine    Automatic               0   \n",
       "373  Black Cherry Metallic           Wine    Automatic               0   \n",
       "374  Black Cherry Metallic           Wine    Automatic               0   \n",
       "375  Black Cherry Metallic           Wine    Automatic               0   \n",
       "376  Black Cherry Metallic           Wine    Automatic               0   \n",
       "377  Black Cherry Metallic           Wine    Automatic               0   \n",
       "\n",
       "                      usage  title  number_of_owners  \\\n",
       "367  Personal or Rental Use  Clean                 1   \n",
       "368  Personal or Rental Use  Clean                 1   \n",
       "369  Personal or Rental Use  Clean                 1   \n",
       "370  Personal or Rental Use  Clean                 1   \n",
       "371  Personal or Rental Use  Clean                 1   \n",
       "372  Personal or Rental Use  Clean                 1   \n",
       "373  Personal or Rental Use  Clean                 1   \n",
       "374  Personal or Rental Use  Clean                 1   \n",
       "375  Personal or Rental Use  Clean                 1   \n",
       "376  Personal or Rental Use  Clean                 1   \n",
       "377  Personal or Rental Use  Clean                 1   \n",
       "\n",
       "                           date   availability  \\\n",
       "367  2020-03-21 09:58:55.542922  listing avail   \n",
       "368  2020-03-23 18:44:30.671126  listing avail   \n",
       "369  2020-03-25 08:17:56.753564  listing avail   \n",
       "370  2020-03-29 20:02:29.517854  listing avail   \n",
       "371  2020-03-30 07:11:23.209785  listing avail   \n",
       "372  2020-03-31 09:49:22.664277  listing avail   \n",
       "373  2020-04-02 16:07:42.515195  listing avail   \n",
       "374  2020-04-07 13:17:51.853408  listing avail   \n",
       "375  2020-04-10 10:31:44.778619  listing avail   \n",
       "376  2020-04-14 08:15:04.305218  listing avail   \n",
       "377  2020-04-19 09:55:17.451779  listing avail   \n",
       "\n",
       "                                                                                    detail_url  \n",
       "367  https://penfed.truecar.com/used-cars-for-sale/listing/JN1AZ4FH9CM371012/2012-nissan-370z/  \n",
       "368  https://penfed.truecar.com/used-cars-for-sale/listing/JN1AZ4FH9CM371012/2012-nissan-370z/  \n",
       "369  https://penfed.truecar.com/used-cars-for-sale/listing/JN1AZ4FH9CM371012/2012-nissan-370z/  \n",
       "370  https://penfed.truecar.com/used-cars-for-sale/listing/JN1AZ4FH9CM371012/2012-nissan-370z/  \n",
       "371  https://penfed.truecar.com/used-cars-for-sale/listing/JN1AZ4FH9CM371012/2012-nissan-370z/  \n",
       "372  https://penfed.truecar.com/used-cars-for-sale/listing/JN1AZ4FH9CM371012/2012-nissan-370z/  \n",
       "373  https://penfed.truecar.com/used-cars-for-sale/listing/JN1AZ4FH9CM371012/2012-nissan-370z/  \n",
       "374  https://penfed.truecar.com/used-cars-for-sale/listing/JN1AZ4FH9CM371012/2012-nissan-370z/  \n",
       "375  https://penfed.truecar.com/used-cars-for-sale/listing/JN1AZ4FH9CM371012/2012-nissan-370z/  \n",
       "376  https://penfed.truecar.com/used-cars-for-sale/listing/JN1AZ4FH9CM371012/2012-nissan-370z/  \n",
       "377  https://penfed.truecar.com/used-cars-for-sale/listing/JN1AZ4FH9CM371012/2012-nissan-370z/  "
      ]
     },
     "execution_count": 115,
     "metadata": {},
     "output_type": "execute_result"
    }
   ],
   "source": [
    "#filter5 = df_less_columns['vin'] == vins[1]\n",
    "filter5 = df_less_columns['vin'] == sel_vin\n",
    "df_less_columns[filter5] #['detail_url']"
   ]
  },
  {
   "cell_type": "code",
   "execution_count": 104,
   "metadata": {},
   "outputs": [],
   "source": [
    "# filter by index range\n",
    "#df_less_columns[filter1 & filter2 & filter3 & filter4].loc[66:79] # view range of listings of interest"
   ]
  },
  {
   "cell_type": "code",
   "execution_count": 105,
   "metadata": {},
   "outputs": [],
   "source": [
    "# filter by index row\n",
    "#df_less_columns[filter1 & filter2 & filter3 & filter4].loc[109] # view listings details for a specific listing"
   ]
  },
  {
   "cell_type": "code",
   "execution_count": null,
   "metadata": {},
   "outputs": [],
   "source": []
  },
  {
   "cell_type": "code",
   "execution_count": null,
   "metadata": {},
   "outputs": [],
   "source": []
  }
 ],
 "metadata": {
  "kernelspec": {
   "display_name": "Python 3",
   "language": "python",
   "name": "python3"
  },
  "language_info": {
   "codemirror_mode": {
    "name": "ipython",
    "version": 3
   },
   "file_extension": ".py",
   "mimetype": "text/x-python",
   "name": "python",
   "nbconvert_exporter": "python",
   "pygments_lexer": "ipython3",
   "version": "3.7.4"
  }
 },
 "nbformat": 4,
 "nbformat_minor": 4
}
