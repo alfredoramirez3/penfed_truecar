{
 "cells": [
  {
   "cell_type": "code",
   "execution_count": 5,
   "metadata": {},
   "outputs": [],
   "source": [
    "import ipywidgets as widgets\n",
    "from IPython.display import display"
   ]
  },
  {
   "cell_type": "code",
   "execution_count": 6,
   "metadata": {},
   "outputs": [
    {
     "data": {
      "application/vnd.jupyter.widget-view+json": {
       "model_id": "3e44031eb23e40869781e2b024ad8216",
       "version_major": 2,
       "version_minor": 0
      },
      "text/plain": [
       "interactive(children=(Dropdown(description='Select Make-Model', options=('Mazda-Miata', 'BMW-Z4', 'Nissan-370Z…"
      ]
     },
     "metadata": {},
     "output_type": "display_data"
    }
   ],
   "source": [
    "def update_dataframe(make_model):\n",
    "    #print('create dataframe for {} csv files'.format(make_model))\n",
    "    filepath = './output/*{}*.csv'.format(make_model)\n",
    "    print(filepath)\n",
    "    return None\n",
    "\n",
    "make_models = ['Mazda-Miata', 'BMW-Z4', 'Nissan-370Z', 'Toyota-4Runner']\n",
    "drop_down = \\\n",
    "widgets.Dropdown(\n",
    "    options = make_models,\n",
    "    value = make_models[0],\n",
    "    description = 'Select Make-Model',\n",
    "    disabled=False,\n",
    ")\n",
    "\n",
    "\n",
    "#display(drop_down)\n",
    "widgets.interactive(update_dataframe, make_model=drop_down)"
   ]
  },
  {
   "cell_type": "code",
   "execution_count": null,
   "metadata": {},
   "outputs": [],
   "source": []
  },
  {
   "cell_type": "code",
   "execution_count": null,
   "metadata": {},
   "outputs": [],
   "source": []
  },
  {
   "cell_type": "code",
   "execution_count": null,
   "metadata": {},
   "outputs": [],
   "source": []
  }
 ],
 "metadata": {
  "kernelspec": {
   "display_name": "Python 3",
   "language": "python",
   "name": "python3"
  },
  "language_info": {
   "codemirror_mode": {
    "name": "ipython",
    "version": 3
   },
   "file_extension": ".py",
   "mimetype": "text/x-python",
   "name": "python",
   "nbconvert_exporter": "python",
   "pygments_lexer": "ipython3",
   "version": "3.7.4"
  }
 },
 "nbformat": 4,
 "nbformat_minor": 4
}
