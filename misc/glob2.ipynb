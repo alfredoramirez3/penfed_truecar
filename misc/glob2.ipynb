{
 "cells": [
  {
   "cell_type": "code",
   "execution_count": 1,
   "metadata": {},
   "outputs": [
    {
     "data": {
      "text/plain": [
       "'/home/ar3/Documents/python_projects/webscraping_projects/penfed_truecar'"
      ]
     },
     "execution_count": 1,
     "metadata": {},
     "output_type": "execute_result"
    }
   ],
   "source": [
    "pwd"
   ]
  },
  {
   "cell_type": "code",
   "execution_count": 12,
   "metadata": {},
   "outputs": [
    {
     "name": "stdout",
     "output_type": "stream",
     "text": [
      "20200304_BMW-Z4.csv          20200309102208_Mazda-Miata.csv\n",
      "20200304_Mazda-Miata.csv     20200309102208_Nissan-370Z.csv\n",
      "20200304_Nissan-370Z.csv     20200309102208_Toyota-4Runner.csv\n",
      "20200304_Toyota-4Runner.csv  20200309232911_BMW-Z4.csv\n",
      "20200305_BMW-Z4.csv          20200309232911_Mazda-Miata.csv\n",
      "20200305_Mazda-Miata.csv     20200309232911_Nissan-370Z.csv\n",
      "20200305_Nissan-370Z.csv     20200309232911_Toyota-4Runner.csv\n",
      "20200305_Toyota-4Runner.csv  20200310092031_BMW-Z4.csv\n",
      "20200306_BMW-Z4.csv          20200310092031_Mazda-Miata.csv\n",
      "20200306_Mazda-Miata.csv     20200310092031_Mazda-Miata.ods\n",
      "20200306_Nissan-370Z.csv     20200310092031_Nissan-370Z.csv\n",
      "20200306_Toyota-4Runner.csv  20200310092031_Toyota-4Runner.csv\n",
      "20200307_BMW-Z4.csv          20200310204219_BMW-Z4.csv\n",
      "20200307_Mazda-Miata.csv     20200310204219_Mazda-Miata.csv\n",
      "20200307_Nissan-370Z.csv     20200310204219_Nissan-370Z.csv\n",
      "20200307_Toyota-4Runner.csv  20200310204219_Toyota-4Runner.csv\n",
      "20200308_BMW-Z4.csv          20200313082354_BMW-Z4.csv\n",
      "20200308_Mazda-Miata.csv     20200313082354_Mazda-Miata.csv\n",
      "20200308_Nissan-370Z.csv     20200313082354_Nissan-370Z.csv\n",
      "20200308_Toyota-4Runner.csv  20200313082354_Toyota-4Runner.csv\n",
      "20200309102208_BMW-Z4.csv    \u001b[0m\u001b[01;34marchive\u001b[0m/\n"
     ]
    }
   ],
   "source": [
    "ls ./output"
   ]
  },
  {
   "cell_type": "code",
   "execution_count": 19,
   "metadata": {},
   "outputs": [],
   "source": [
    "import glob2\n",
    "import pandas as pd"
   ]
  },
  {
   "cell_type": "code",
   "execution_count": 13,
   "metadata": {},
   "outputs": [],
   "source": [
    "filenames = glob2.glob('./output/*Mazda-Miata*.csv')"
   ]
  },
  {
   "cell_type": "code",
   "execution_count": 15,
   "metadata": {},
   "outputs": [
    {
     "name": "stdout",
     "output_type": "stream",
     "text": [
      "./output/20200305_Mazda-Miata.csv\n",
      "./output/20200306_Mazda-Miata.csv\n",
      "./output/20200310204219_Mazda-Miata.csv\n",
      "./output/20200313082354_Mazda-Miata.csv\n",
      "./output/20200308_Mazda-Miata.csv\n",
      "./output/20200307_Mazda-Miata.csv\n",
      "./output/20200304_Mazda-Miata.csv\n",
      "./output/20200310092031_Mazda-Miata.csv\n",
      "./output/20200309102208_Mazda-Miata.csv\n",
      "./output/20200309232911_Mazda-Miata.csv\n"
     ]
    }
   ],
   "source": [
    "for filename in filenames:\n",
    "    print(filename)"
   ]
  },
  {
   "cell_type": "code",
   "execution_count": 22,
   "metadata": {},
   "outputs": [
    {
     "data": {
      "text/plain": [
       "231"
      ]
     },
     "execution_count": 22,
     "metadata": {},
     "output_type": "execute_result"
    }
   ],
   "source": [
    "#df9 = pd.read_csv(csv_filename9)\n",
    "#df = pd.concat([df1, df2, df3, df4, df5, df6, df7, df8, df9], ignore_index=True, sort=False)\n",
    "df = pd.read_csv(filenames[0])\n",
    "for filename in filenames[1:]:\n",
    "    df = pd.concat([df, pd.read_csv(filename)], ignore_index=True, sort=False)\n",
    "\n",
    "len(df)"
   ]
  },
  {
   "cell_type": "code",
   "execution_count": 23,
   "metadata": {},
   "outputs": [
    {
     "data": {
      "text/plain": [
       "Index(['Unnamed: 0', 'year_make_model_1', 'detail_url', 'vin', 'price_rating',\n",
       "       'vehicle_price', 'year_make_model_2', 'trim', 'location', 'mileage',\n",
       "       'exterior_color', 'interior_color', 'mpg', 'engine', 'transmission',\n",
       "       'drive_type', 'fuel_type', 'accident_check', 'usage', 'title',\n",
       "       'number_of_owners', 'date'],\n",
       "      dtype='object')"
      ]
     },
     "execution_count": 23,
     "metadata": {},
     "output_type": "execute_result"
    }
   ],
   "source": [
    "df.columns"
   ]
  },
  {
   "cell_type": "code",
   "execution_count": 25,
   "metadata": {},
   "outputs": [
    {
     "data": {
      "text/plain": [
       "{'2020-03-04 16:37:10.199085',\n",
       " '2020-03-05 10:00:17.292421',\n",
       " '2020-03-06 10:55:30.529775',\n",
       " '2020-03-07 09:42:18.653476',\n",
       " '2020-03-08 22:14:26.172861',\n",
       " '2020-03-09 10:22:43.797047',\n",
       " '2020-03-09 23:29:42.335789',\n",
       " '2020-03-10 09:21:04.388781',\n",
       " '2020-03-10 20:42:49.214281',\n",
       " '2020-03-13 08:24:30.589904'}"
      ]
     },
     "execution_count": 25,
     "metadata": {},
     "output_type": "execute_result"
    }
   ],
   "source": [
    "set(df['date'])"
   ]
  }
 ],
 "metadata": {
  "kernelspec": {
   "display_name": "Python 3",
   "language": "python",
   "name": "python3"
  },
  "language_info": {
   "codemirror_mode": {
    "name": "ipython",
    "version": 3
   },
   "file_extension": ".py",
   "mimetype": "text/x-python",
   "name": "python",
   "nbconvert_exporter": "python",
   "pygments_lexer": "ipython3",
   "version": "3.7.4"
  }
 },
 "nbformat": 4,
 "nbformat_minor": 4
}
